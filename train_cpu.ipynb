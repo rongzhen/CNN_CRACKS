{
 "cells": [
  {
   "cell_type": "code",
   "execution_count": null,
   "metadata": {},
   "outputs": [],
   "source": [
    "#https://data.mendeley.com/datasets/5y9wdsg2zt/1 (data)\n",
    "import os, shutil"
   ]
  },
  {
   "cell_type": "code",
   "execution_count": null,
   "metadata": {},
   "outputs": [],
   "source": [
    "# The path to the directory where the original\n",
    "# dataset was uncompressed\n",
    "original_dataset_pos_dir = '/home/rongzhen/chalmers/digital_twin/crack_image/Positive'\n",
    "original_dataset_neg_dir = '/home/rongzhen/chalmers/digital_twin/crack_image/Negative'\n",
    "\n",
    "# The directory where we will\n",
    "# store our smaller dataset\n",
    "base_dir = '/home/rongzhen/chalmers/digital_twin/crack_image/CNN_CPU'\n",
    "os.mkdir(base_dir)\n",
    "\n",
    "# Directories for our training,\n",
    "# validation and test splits\n",
    "train_dir = os.path.join(base_dir, 'train')\n",
    "os.mkdir(train_dir)\n",
    "validation_dir = os.path.join(base_dir, 'validation')\n",
    "os.mkdir(validation_dir)\n",
    "test_dir = os.path.join(base_dir, 'test')\n",
    "os.mkdir(test_dir)\n",
    "\n",
    "# Directory with our training posive pictures\n",
    "train_pos_dir = os.path.join(train_dir, 'pos')\n",
    "os.mkdir(train_pos_dir)\n",
    "\n",
    "# Directory with our training negative pictures\n",
    "train_neg_dir = os.path.join(train_dir, 'neg')\n",
    "os.mkdir(train_neg_dir)\n",
    "\n",
    "# Directory with our validation positive pictures\n",
    "validation_pos_dir = os.path.join(validation_dir, 'pos')\n",
    "os.mkdir(validation_pos_dir)\n",
    "\n",
    "# Directory with our validation negative pictures\n",
    "validation_neg_dir = os.path.join(validation_dir, 'neg')\n",
    "os.mkdir(validation_neg_dir)\n",
    "\n",
    "# Directory with our validation positive pictures\n",
    "test_pos_dir = os.path.join(test_dir, 'pos')\n",
    "os.mkdir(test_pos_dir)\n",
    "\n",
    "# Directory with our validation negative pictures\n",
    "test_neg_dir = os.path.join(test_dir, 'neg')\n",
    "os.mkdir(test_neg_dir)"
   ]
  },
  {
   "cell_type": "code",
   "execution_count": null,
   "metadata": {},
   "outputs": [],
   "source": [
    "# change file name such as 10000_1.jpg to 10000.jpg\n",
    "for f in os.listdir(original_dataset_pos_dir):\n",
    "    fname_split = f.split(\"_\")\n",
    "    if len(fname_split)!=1:\n",
    "        src = os.path.join(original_dataset_pos_dir,f)\n",
    "        dst = os.path.join(original_dataset_pos_dir,fname_split[0]+'.jpg')\n",
    "        os.rename(src, dst) \n",
    "\n",
    "for f in os.listdir(original_dataset_neg_dir):\n",
    "    fname_split = f.split(\"_\")\n",
    "    if len(fname_split)!=1:\n",
    "        src = os.path.join(original_dataset_neg_dir,f)\n",
    "        dst = os.path.join(original_dataset_neg_dir,fname_split[0]+'.jpg')\n",
    "        os.rename(src, dst) "
   ]
  },
  {
   "cell_type": "markdown",
   "metadata": {},
   "source": [
    "# Note: may need to shuffle the images then copy to train, test, validation"
   ]
  },
  {
   "cell_type": "code",
   "execution_count": null,
   "metadata": {},
   "outputs": [],
   "source": [
    "# Copy first 14000 images to train\n",
    "fnames = ['{0:05}.jpg'.format(i) for i in range(1,14001) ]\n",
    "for fname in fnames:\n",
    "    src_pos = os.path.join(original_dataset_pos_dir, fname)\n",
    "    src_neg = os.path.join(original_dataset_neg_dir, fname)\n",
    "\n",
    "    dst_pos = os.path.join(train_pos_dir, fname)\n",
    "    dst_neg = os.path.join(train_neg_dir, fname)\n",
    "\n",
    "    shutil.copyfile(src_pos, dst_pos)\n",
    "    shutil.copyfile(src_neg, dst_neg)\n",
    "\n",
    "# Copy first 4000 images to validation\n",
    "fnames = ['{0:05}.jpg'.format(i) for i in range(14001,18001) ]\n",
    "for fname in fnames:\n",
    "    src_pos = os.path.join(original_dataset_pos_dir, fname)\n",
    "    src_neg = os.path.join(original_dataset_neg_dir, fname)\n",
    "\n",
    "    dst_pos = os.path.join(validation_pos_dir, fname)\n",
    "    dst_neg = os.path.join(validation_neg_dir, fname)\n",
    "\n",
    "    shutil.copyfile(src_pos, dst_pos)\n",
    "    shutil.copyfile(src_neg, dst_neg)\n",
    "\n",
    "    \n",
    "# Copy first 2000 images to test\n",
    "fnames = ['{0:05}.jpg'.format(i) for i in range(18001,20001) ]\n",
    "for fname in fnames:\n",
    "    src_pos = os.path.join(original_dataset_pos_dir, fname)\n",
    "    src_neg = os.path.join(original_dataset_neg_dir, fname)\n",
    "\n",
    "    dst_pos = os.path.join(test_pos_dir, fname)\n",
    "    dst_neg = os.path.join(test_neg_dir, fname)\n",
    "\n",
    "    shutil.copyfile(src_pos, dst_pos)\n",
    "    shutil.copyfile(src_neg, dst_neg)\n",
    "    \n",
    "  "
   ]
  },
  {
   "cell_type": "code",
   "execution_count": null,
   "metadata": {},
   "outputs": [],
   "source": [
    "print('total training pos images:', len(os.listdir(train_pos_dir)))\n",
    "print('total training neg images:', len(os.listdir(train_neg_dir)))"
   ]
  },
  {
   "cell_type": "code",
   "execution_count": null,
   "metadata": {},
   "outputs": [],
   "source": [
    "print('total test pos images:', len(os.listdir(test_pos_dir)))\n",
    "print('total test neg images:', len(os.listdir(test_neg_dir)))"
   ]
  },
  {
   "cell_type": "code",
   "execution_count": null,
   "metadata": {},
   "outputs": [],
   "source": [
    "print('total validation pos images:', len(os.listdir(validation_pos_dir)))\n",
    "print('total validation neg images:', len(os.listdir(validation_neg_dir)))"
   ]
  },
  {
   "cell_type": "code",
   "execution_count": null,
   "metadata": {},
   "outputs": [],
   "source": [
    "from keras import layers\n",
    "from keras import models\n",
    "\n",
    "model = models.Sequential()\n",
    "model.add(layers.Conv2D(32, (3, 3), activation='relu',\n",
    "                        input_shape=(227, 227, 3)))\n",
    "model.add(layers.MaxPooling2D((2, 2)))\n",
    "model.add(layers.Conv2D(64, (3, 3), activation='relu'))\n",
    "model.add(layers.MaxPooling2D((2, 2)))\n",
    "model.add(layers.Conv2D(128, (3, 3), activation='relu'))\n",
    "model.add(layers.MaxPooling2D((2, 2)))\n",
    "model.add(layers.Conv2D(128, (3, 3), activation='relu'))\n",
    "model.add(layers.MaxPooling2D((2, 2)))\n",
    "model.add(layers.Conv2D(128, (3, 3), activation='relu'))\n",
    "model.add(layers.MaxPooling2D((2, 2)))\n",
    "model.add(layers.Flatten())\n",
    "model.add(layers.Dense(256, activation='relu'))\n",
    "model.add(layers.Dense(1, activation='sigmoid'))"
   ]
  },
  {
   "cell_type": "code",
   "execution_count": null,
   "metadata": {},
   "outputs": [],
   "source": [
    "model.summary()"
   ]
  },
  {
   "cell_type": "code",
   "execution_count": null,
   "metadata": {},
   "outputs": [],
   "source": [
    "from keras import optimizers\n",
    "\n",
    "model.compile(loss='binary_crossentropy',\n",
    "              optimizer=optimizers.RMSprop(lr=1e-4),\n",
    "              metrics=['acc'])"
   ]
  },
  {
   "cell_type": "code",
   "execution_count": null,
   "metadata": {},
   "outputs": [],
   "source": [
    "from keras.preprocessing.image import ImageDataGenerator\n",
    "\n",
    "# All images will be rescaled by 1./255\n",
    "train_datagen = ImageDataGenerator(rescale=1./255)\n",
    "test_datagen = ImageDataGenerator(rescale=1./255)\n",
    "\n",
    "train_generator = train_datagen.flow_from_directory(\n",
    "        # This is the target directory\n",
    "        train_dir,\n",
    "        # All images will be resized to 150x150\n",
    "        target_size=(227, 227),\n",
    "        batch_size=140,\n",
    "        # Since we use binary_crossentropy loss, we need binary labels\n",
    "        class_mode='binary')\n",
    "\n",
    "validation_generator = test_datagen.flow_from_directory(\n",
    "        validation_dir,\n",
    "        target_size=(227, 227),\n",
    "        batch_size=100,\n",
    "        class_mode='binary')"
   ]
  },
  {
   "cell_type": "code",
   "execution_count": null,
   "metadata": {},
   "outputs": [],
   "source": [
    "train_dir"
   ]
  },
  {
   "cell_type": "code",
   "execution_count": null,
   "metadata": {},
   "outputs": [],
   "source": [
    "validation_dir"
   ]
  },
  {
   "cell_type": "code",
   "execution_count": null,
   "metadata": {},
   "outputs": [],
   "source": [
    "for data_batch, labels_batch in train_generator:\n",
    "    print('data batch shape:', data_batch.shape)\n",
    "    print('labels batch shape:', labels_batch.shape)\n",
    "    break"
   ]
  },
  {
   "cell_type": "code",
   "execution_count": null,
   "metadata": {},
   "outputs": [],
   "source": [
    "history = model.fit_generator(\n",
    "      train_generator,\n",
    "      steps_per_epoch=100,\n",
    "      epochs=10,\n",
    "      validation_data=validation_generator,\n",
    "      validation_steps=40)"
   ]
  }
 ],
 "metadata": {
  "kernelspec": {
   "display_name": "Python 3",
   "language": "python",
   "name": "python3"
  },
  "language_info": {
   "codemirror_mode": {
    "name": "ipython",
    "version": 3
   },
   "file_extension": ".py",
   "mimetype": "text/x-python",
   "name": "python",
   "nbconvert_exporter": "python",
   "pygments_lexer": "ipython3",
   "version": "3.6.8"
  }
 },
 "nbformat": 4,
 "nbformat_minor": 2
}
